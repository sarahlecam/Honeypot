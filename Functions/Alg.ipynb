{
 "cells": [
  {
   "cell_type": "code",
   "execution_count": 145,
   "metadata": {},
   "outputs": [
    {
     "name": "stdout",
     "output_type": "stream",
     "text": [
      "43te5st21\n",
      "test32198\n"
     ]
    }
   ],
   "source": [
    "#Switching up digit positions\n",
    "def algo3(passcode):\n",
    "\n",
    "    password = passcode\n",
    "    digitIndexes = []\n",
    "\n",
    "    #looping over password and storing the indexes of digits\n",
    "    for i in range (len(password)):\n",
    "        if str.isdigit(password[i]):\n",
    "            digitIndexes.append(i)\n",
    "\n",
    "    lst = list(password);\n",
    "\n",
    "    #loop over the constructed list of indexes and swap them in the original password\n",
    "    for j in range(int(len(digitIndexes)/2)):\n",
    "        lst[digitIndexes[j]], lst[digitIndexes[len(digitIndexes)-j-1]] = lst[digitIndexes[len(digitIndexes)-j-1]], lst[digitIndexes[j]]\n",
    "        output = ''.join(lst)\n",
    "    return (output) \n",
    "        \n",
    " \n",
    "#this assumes that at the very least, the last character is a digit\n",
    "def algo8(passcode):\n",
    "    password = passcode\n",
    "    lst = list(password)\n",
    "    \n",
    "    index = len(password)-1\n",
    "    \n",
    "    i = int (lst[index])\n",
    "    j = int (lst[index-1])\n",
    "    \n",
    "    if(i - j == 1 and i<9):\n",
    "        temp = i+1\n",
    "        lst.append(str(i+1))\n",
    "    elif(j - i == 1 and i>1):\n",
    "        lst.append(str(i-1))\n",
    "    elif(i < 9):\n",
    "        lst.append(str(i+1))\n",
    "    elif(i == 9):\n",
    "        lst.append('8')\n",
    "        \n",
    "    output = ''.join(lst)\n",
    "    return (output)\n",
    "      \n",
    "     \n",
    "\n",
    "result = algo3('12te5st34')\n",
    "print (result)\n",
    "\n",
    "result2 = algo9('test3219')\n",
    "print (result2)"
   ]
  }
 ],
 "metadata": {
  "kernelspec": {
   "display_name": "Python 3",
   "language": "python",
   "name": "python3"
  },
  "language_info": {
   "codemirror_mode": {
    "name": "ipython",
    "version": 3
   },
   "file_extension": ".py",
   "mimetype": "text/x-python",
   "name": "python",
   "nbconvert_exporter": "python",
   "pygments_lexer": "ipython3",
   "version": "3.6.1"
  }
 },
 "nbformat": 4,
 "nbformat_minor": 2
}
